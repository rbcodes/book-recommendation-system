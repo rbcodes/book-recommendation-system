{
 "cells": [
  {
   "cell_type": "code",
   "execution_count": 52,
   "id": "22d059ed-b86a-401e-a9c6-df948d4cd4c0",
   "metadata": {},
   "outputs": [],
   "source": [
    "import pandas as pd\n",
    "import numpy as np\n",
    "import seaborn as sns\n",
    "import matplotlib.pyplot as plt"
   ]
  },
  {
   "cell_type": "code",
   "execution_count": 53,
   "id": "de82a102-2d72-415e-8007-af1148203494",
   "metadata": {},
   "outputs": [],
   "source": [
    "books = pd.read_csv(\n",
    "    \"books.csv\",\n",
    "    sep=';',\n",
    "    encoding='utf-8',\n",
    "    encoding_errors='ignore',\n",
    "    on_bad_lines='skip',\n",
    "    low_memory=False \n",
    ")\n",
    "\n",
    "ratings = pd.read_csv(\n",
    "    \"ratings.csv\",\n",
    "    sep=';',\n",
    "    encoding='utf-8',\n",
    "    encoding_errors='ignore',\n",
    "    on_bad_lines='skip',\n",
    "    low_memory=False \n",
    ")\n",
    "\n",
    "users = pd.read_csv(\n",
    "    \"users.csv\",\n",
    "    sep=';',\n",
    "    encoding='utf-8',\n",
    "    encoding_errors='ignore',\n",
    "    on_bad_lines='skip',\n",
    "    low_memory=False \n",
    ")"
   ]
  },
  {
   "cell_type": "code",
   "execution_count": null,
   "id": "3b0eb653-a785-4b0f-939e-7fa3dffa7a4b",
   "metadata": {},
   "outputs": [],
   "source": [
    "users.head()"
   ]
  },
  {
   "cell_type": "code",
   "execution_count": 4,
   "id": "ad6b1b35-54de-47b5-a250-67b1f62c39cf",
   "metadata": {},
   "outputs": [
    {
     "data": {
      "text/html": [
       "<div>\n",
       "<style scoped>\n",
       "    .dataframe tbody tr th:only-of-type {\n",
       "        vertical-align: middle;\n",
       "    }\n",
       "\n",
       "    .dataframe tbody tr th {\n",
       "        vertical-align: top;\n",
       "    }\n",
       "\n",
       "    .dataframe thead th {\n",
       "        text-align: right;\n",
       "    }\n",
       "</style>\n",
       "<table border=\"1\" class=\"dataframe\">\n",
       "  <thead>\n",
       "    <tr style=\"text-align: right;\">\n",
       "      <th></th>\n",
       "      <th>ISBN</th>\n",
       "      <th>Book-Title</th>\n",
       "      <th>Book-Author</th>\n",
       "      <th>Year-Of-Publication</th>\n",
       "      <th>Publisher</th>\n",
       "      <th>Image-URL-S</th>\n",
       "      <th>Image-URL-M</th>\n",
       "      <th>Image-URL-L</th>\n",
       "    </tr>\n",
       "  </thead>\n",
       "  <tbody>\n",
       "    <tr>\n",
       "      <th>0</th>\n",
       "      <td>0195153448</td>\n",
       "      <td>Classical Mythology</td>\n",
       "      <td>Mark P. O. Morford</td>\n",
       "      <td>2002</td>\n",
       "      <td>Oxford University Press</td>\n",
       "      <td>http://images.amazon.com/images/P/0195153448.0...</td>\n",
       "      <td>http://images.amazon.com/images/P/0195153448.0...</td>\n",
       "      <td>http://images.amazon.com/images/P/0195153448.0...</td>\n",
       "    </tr>\n",
       "    <tr>\n",
       "      <th>1</th>\n",
       "      <td>0002005018</td>\n",
       "      <td>Clara Callan</td>\n",
       "      <td>Richard Bruce Wright</td>\n",
       "      <td>2001</td>\n",
       "      <td>HarperFlamingo Canada</td>\n",
       "      <td>http://images.amazon.com/images/P/0002005018.0...</td>\n",
       "      <td>http://images.amazon.com/images/P/0002005018.0...</td>\n",
       "      <td>http://images.amazon.com/images/P/0002005018.0...</td>\n",
       "    </tr>\n",
       "    <tr>\n",
       "      <th>2</th>\n",
       "      <td>0060973129</td>\n",
       "      <td>Decision in Normandy</td>\n",
       "      <td>Carlo D'Este</td>\n",
       "      <td>1991</td>\n",
       "      <td>HarperPerennial</td>\n",
       "      <td>http://images.amazon.com/images/P/0060973129.0...</td>\n",
       "      <td>http://images.amazon.com/images/P/0060973129.0...</td>\n",
       "      <td>http://images.amazon.com/images/P/0060973129.0...</td>\n",
       "    </tr>\n",
       "    <tr>\n",
       "      <th>3</th>\n",
       "      <td>0374157065</td>\n",
       "      <td>Flu: The Story of the Great Influenza Pandemic...</td>\n",
       "      <td>Gina Bari Kolata</td>\n",
       "      <td>1999</td>\n",
       "      <td>Farrar Straus Giroux</td>\n",
       "      <td>http://images.amazon.com/images/P/0374157065.0...</td>\n",
       "      <td>http://images.amazon.com/images/P/0374157065.0...</td>\n",
       "      <td>http://images.amazon.com/images/P/0374157065.0...</td>\n",
       "    </tr>\n",
       "    <tr>\n",
       "      <th>4</th>\n",
       "      <td>0393045218</td>\n",
       "      <td>The Mummies of Urumchi</td>\n",
       "      <td>E. J. W. Barber</td>\n",
       "      <td>1999</td>\n",
       "      <td>W. W. Norton &amp;amp; Company</td>\n",
       "      <td>http://images.amazon.com/images/P/0393045218.0...</td>\n",
       "      <td>http://images.amazon.com/images/P/0393045218.0...</td>\n",
       "      <td>http://images.amazon.com/images/P/0393045218.0...</td>\n",
       "    </tr>\n",
       "  </tbody>\n",
       "</table>\n",
       "</div>"
      ],
      "text/plain": [
       "         ISBN                                         Book-Title  \\\n",
       "0  0195153448                                Classical Mythology   \n",
       "1  0002005018                                       Clara Callan   \n",
       "2  0060973129                               Decision in Normandy   \n",
       "3  0374157065  Flu: The Story of the Great Influenza Pandemic...   \n",
       "4  0393045218                             The Mummies of Urumchi   \n",
       "\n",
       "            Book-Author Year-Of-Publication                   Publisher  \\\n",
       "0    Mark P. O. Morford                2002     Oxford University Press   \n",
       "1  Richard Bruce Wright                2001       HarperFlamingo Canada   \n",
       "2          Carlo D'Este                1991             HarperPerennial   \n",
       "3      Gina Bari Kolata                1999        Farrar Straus Giroux   \n",
       "4       E. J. W. Barber                1999  W. W. Norton &amp; Company   \n",
       "\n",
       "                                         Image-URL-S  \\\n",
       "0  http://images.amazon.com/images/P/0195153448.0...   \n",
       "1  http://images.amazon.com/images/P/0002005018.0...   \n",
       "2  http://images.amazon.com/images/P/0060973129.0...   \n",
       "3  http://images.amazon.com/images/P/0374157065.0...   \n",
       "4  http://images.amazon.com/images/P/0393045218.0...   \n",
       "\n",
       "                                         Image-URL-M  \\\n",
       "0  http://images.amazon.com/images/P/0195153448.0...   \n",
       "1  http://images.amazon.com/images/P/0002005018.0...   \n",
       "2  http://images.amazon.com/images/P/0060973129.0...   \n",
       "3  http://images.amazon.com/images/P/0374157065.0...   \n",
       "4  http://images.amazon.com/images/P/0393045218.0...   \n",
       "\n",
       "                                         Image-URL-L  \n",
       "0  http://images.amazon.com/images/P/0195153448.0...  \n",
       "1  http://images.amazon.com/images/P/0002005018.0...  \n",
       "2  http://images.amazon.com/images/P/0060973129.0...  \n",
       "3  http://images.amazon.com/images/P/0374157065.0...  \n",
       "4  http://images.amazon.com/images/P/0393045218.0...  "
      ]
     },
     "execution_count": 4,
     "metadata": {},
     "output_type": "execute_result"
    }
   ],
   "source": [
    "books.head()"
   ]
  },
  {
   "cell_type": "code",
   "execution_count": 5,
   "id": "7c88ae7e-b869-46c5-8ab1-9149f04b5d67",
   "metadata": {},
   "outputs": [
    {
     "ename": "NameError",
     "evalue": "name 'rating' is not defined",
     "output_type": "error",
     "traceback": [
      "\u001b[0;31m---------------------------------------------------------------------------\u001b[0m",
      "\u001b[0;31mNameError\u001b[0m                                 Traceback (most recent call last)",
      "Cell \u001b[0;32mIn[5], line 1\u001b[0m\n\u001b[0;32m----> 1\u001b[0m rating\u001b[38;5;241m.\u001b[39mhead()\n",
      "\u001b[0;31mNameError\u001b[0m: name 'rating' is not defined"
     ]
    }
   ],
   "source": [
    "rating.head()"
   ]
  },
  {
   "cell_type": "code",
   "execution_count": null,
   "id": "66960a6c-f137-4343-9c2f-f5d43f4374c6",
   "metadata": {},
   "outputs": [],
   "source": [
    "print(books.shape)\n",
    "print(ratings.shape)\n",
    "print(users.shape)"
   ]
  },
  {
   "cell_type": "code",
   "execution_count": null,
   "id": "5883ec78-db6c-46ac-b8c6-60bc2b99ff57",
   "metadata": {},
   "outputs": [],
   "source": [
    "ratings['User-ID'].value_counts()"
   ]
  },
  {
   "cell_type": "code",
   "execution_count": null,
   "id": "47bd2f09-78fb-446c-94e9-63ed182515e2",
   "metadata": {},
   "outputs": [],
   "source": [
    "x = ratings['User-ID'].value_counts() > 100"
   ]
  },
  {
   "cell_type": "code",
   "execution_count": null,
   "id": "490253ac-958c-49fa-b7a9-4b8580b21e92",
   "metadata": {},
   "outputs": [],
   "source": [
    "y = x[x].index.tolist()"
   ]
  },
  {
   "cell_type": "code",
   "execution_count": null,
   "id": "96a96b60-30f3-4499-aa4a-9b2555fa9a62",
   "metadata": {},
   "outputs": [],
   "source": [
    "ratings = ratings[ratings['User-ID'].isin(y)]"
   ]
  },
  {
   "cell_type": "code",
   "execution_count": null,
   "id": "cb43ce56-beaf-409f-91d2-591444699273",
   "metadata": {},
   "outputs": [],
   "source": [
    "ratings.head()"
   ]
  },
  {
   "cell_type": "code",
   "execution_count": null,
   "id": "0a53e6a8-ff3e-4230-bed2-20dbfc18e896",
   "metadata": {},
   "outputs": [],
   "source": [
    "ratings_with_books = ratings.merge(books, on = \"ISBN\")"
   ]
  },
  {
   "cell_type": "code",
   "execution_count": null,
   "id": "82753eaf-2d74-4b85-b592-a0a6002595d3",
   "metadata": {},
   "outputs": [],
   "source": [
    "ratings_with_books.head()"
   ]
  },
  {
   "cell_type": "code",
   "execution_count": null,
   "id": "eeb2ae75-0b2a-4976-8ce7-a6fa19d01c07",
   "metadata": {},
   "outputs": [],
   "source": [
    "books_rating_count = ratings_with_books.groupby('Book-Title')['Book-Rating'].count().reset_index()"
   ]
  },
  {
   "cell_type": "code",
   "execution_count": null,
   "id": "46458012-8b7c-46bb-a30e-06896b66f62e",
   "metadata": {},
   "outputs": [],
   "source": [
    "books_rating_count.head()"
   ]
  },
  {
   "cell_type": "code",
   "execution_count": null,
   "id": "66d72349-9597-4fa0-b8ce-fbea314539b1",
   "metadata": {},
   "outputs": [],
   "source": [
    "books_rating_count.rename(columns={'Book-Rating' : 'num_of_rating'}, inplace = True)"
   ]
  },
  {
   "cell_type": "code",
   "execution_count": null,
   "id": "f5ab3300-1b2e-41a5-9b6d-6e842c5643b9",
   "metadata": {},
   "outputs": [],
   "source": [
    "books_rating_count.head()"
   ]
  },
  {
   "cell_type": "code",
   "execution_count": null,
   "id": "65f455be-889d-44b0-879f-c50240517df5",
   "metadata": {},
   "outputs": [],
   "source": [
    "ratings_with_books = ratings_with_books.merge(books_rating_count, on = \"Book-Title\")"
   ]
  },
  {
   "cell_type": "code",
   "execution_count": null,
   "id": "d10f5787-622a-429d-bed9-f4d7a0209837",
   "metadata": {},
   "outputs": [],
   "source": [
    "valued_books = ratings_with_books[ratings_with_books['num_of_rating'] > 50]"
   ]
  },
  {
   "cell_type": "code",
   "execution_count": null,
   "id": "7c4abacb-a168-481c-b856-4213ae30f033",
   "metadata": {},
   "outputs": [],
   "source": [
    "valued_books.shape"
   ]
  },
  {
   "cell_type": "code",
   "execution_count": null,
   "id": "660efaa8-523c-41ce-9cf4-767fa596b936",
   "metadata": {},
   "outputs": [],
   "source": [
    "valued_books.drop_duplicates(['User-ID','Book-Title'], inplace= True)"
   ]
  },
  {
   "cell_type": "code",
   "execution_count": null,
   "id": "98748a76-d3d6-4117-8112-6a32da6d1ba8",
   "metadata": {},
   "outputs": [],
   "source": [
    "valued_books.head()"
   ]
  },
  {
   "cell_type": "code",
   "execution_count": null,
   "id": "b6332bcb-cd6a-4fa3-979f-9956d7ce8ecb",
   "metadata": {},
   "outputs": [],
   "source": [
    "book_pivot = valued_books.pivot_table(columns='User-ID', index='Book-Title', values = 'Book-Rating')"
   ]
  },
  {
   "cell_type": "code",
   "execution_count": null,
   "id": "49fa83f0-c04d-41ce-9c0e-c2231e084094",
   "metadata": {},
   "outputs": [],
   "source": [
    "book_pivot"
   ]
  },
  {
   "cell_type": "code",
   "execution_count": null,
   "id": "4b473897-9bfb-4e2d-822e-ba45356f1ab9",
   "metadata": {},
   "outputs": [],
   "source": [
    "book_pivot.shape"
   ]
  },
  {
   "cell_type": "code",
   "execution_count": null,
   "id": "02cfb14d-4da9-4310-a95e-3ae4bc65de17",
   "metadata": {},
   "outputs": [],
   "source": [
    "book_pivot.fillna(0, inplace = True)"
   ]
  },
  {
   "cell_type": "code",
   "execution_count": null,
   "id": "b8f708b9-035c-4fea-b6a6-9672e5e82ce5",
   "metadata": {},
   "outputs": [],
   "source": [
    "book_pivot"
   ]
  },
  {
   "cell_type": "code",
   "execution_count": null,
   "id": "856fdfa8-4744-41d2-94e6-7bcd68bb721f",
   "metadata": {},
   "outputs": [],
   "source": [
    "from scipy.sparse import csr_matrix"
   ]
  },
  {
   "cell_type": "code",
   "execution_count": null,
   "id": "f7eb3090-1b37-47b9-9236-510b85bbaca8",
   "metadata": {},
   "outputs": [],
   "source": [
    "book_sparse = csr_matrix(book_pivot)"
   ]
  },
  {
   "cell_type": "code",
   "execution_count": null,
   "id": "6c0bf77d-dbdf-4191-b28d-ab2de3a03685",
   "metadata": {},
   "outputs": [],
   "source": [
    "from sklearn.neighbors import NearestNeighbors\n",
    "model = NearestNeighbors(algorithm='brute')"
   ]
  },
  {
   "cell_type": "code",
   "execution_count": null,
   "id": "d3b554a0-9704-41a8-9900-1da8a72e3ab5",
   "metadata": {},
   "outputs": [],
   "source": [
    "model.fit(book_sparse)"
   ]
  },
  {
   "cell_type": "code",
   "execution_count": null,
   "id": "55720c35-0279-41f8-8002-5d43dd82085e",
   "metadata": {},
   "outputs": [],
   "source": [
    "result = book_pivot.index.get_loc('Harry Potter and the Chamber of Secrets (Book 2)')\n",
    "print(result)"
   ]
  },
  {
   "cell_type": "code",
   "execution_count": null,
   "id": "0ba415c8-fea3-417d-bdf6-cf972065a8b3",
   "metadata": {},
   "outputs": [],
   "source": [
    "distance, suggestion = model.kneighbors(book_pivot.iloc[329,:].values.reshape(1, -1), n_neighbors = 10)"
   ]
  },
  {
   "cell_type": "code",
   "execution_count": null,
   "id": "b00ecd94-d321-4767-b9db-4a62f63eb399",
   "metadata": {},
   "outputs": [],
   "source": [
    "suggestion"
   ]
  },
  {
   "cell_type": "code",
   "execution_count": null,
   "id": "765ae609-3c9a-46ef-ae6a-76a328c6e501",
   "metadata": {},
   "outputs": [],
   "source": [
    "distance"
   ]
  },
  {
   "cell_type": "code",
   "execution_count": null,
   "id": "bd617efa-584b-4d08-8215-1ea7f90706ac",
   "metadata": {},
   "outputs": [],
   "source": [
    "for i in range(len(suggestion)):\n",
    "    print(book_pivot.index[suggestion[i]])"
   ]
  },
  {
   "cell_type": "code",
   "execution_count": null,
   "id": "809bff86-3e16-4bc7-94d4-0bf7e9684a3c",
   "metadata": {},
   "outputs": [],
   "source": [
    "book_names = book_pivot.index"
   ]
  },
  {
   "cell_type": "code",
   "execution_count": null,
   "id": "6751751d-4f95-40d1-a8af-5f1b9cf87f62",
   "metadata": {},
   "outputs": [],
   "source": [
    "book_names"
   ]
  },
  {
   "cell_type": "code",
   "execution_count": null,
   "id": "2bf1d745-3b0c-4f9b-8406-f80ae7d8b767",
   "metadata": {},
   "outputs": [],
   "source": [
    "import pickle\n",
    "pickle.dump(model, open('artifacts/model.pkl', 'wb'))\n",
    "pickle.dump(book_names, open('artifacts/book_names.pkl', 'wb'))\n",
    "pickle.dump(valued_books, open('artifacts/final_ratings.pkl', 'wb'))\n",
    "pickle.dump(book_pivot, open('artifacts/book_pivot.pkl', 'wb'))\n"
   ]
  },
  {
   "cell_type": "code",
   "execution_count": null,
   "id": "874b19b5-d35f-45e9-841f-91ea13c34fa1",
   "metadata": {},
   "outputs": [],
   "source": [
    "def recommending_books(book_name):\n",
    "    book_id = np.where(book_pivot.index == book_name)[0][0]\n",
    "    distance, suggestion = model.kneighbors(book_pivot.iloc[book_id,:].values.reshape(1, -1), n_neighbors = 10)\n",
    "    for i in range(len(suggestion)):\n",
    "        books = book_pivot.index[suggestion[i]]\n",
    "        for j in books:\n",
    "            print(j)\n",
    "    "
   ]
  },
  {
   "cell_type": "code",
   "execution_count": null,
   "id": "2f703a5b-ca85-4e15-8037-c09cdebb5334",
   "metadata": {},
   "outputs": [],
   "source": [
    "recommending_books('Harry Potter and the Chamber of Secrets (Book 2)')"
   ]
  },
  {
   "cell_type": "code",
   "execution_count": 51,
   "id": "873db57d-2865-49f8-a589-0f5e2b55fbf6",
   "metadata": {},
   "outputs": [
    {
     "ename": "NameError",
     "evalue": "name 'final_ratings' is not defined",
     "output_type": "error",
     "traceback": [
      "\u001b[0;31m---------------------------------------------------------------------------\u001b[0m",
      "\u001b[0;31mNameError\u001b[0m                                 Traceback (most recent call last)",
      "Cell \u001b[0;32mIn[51], line 1\u001b[0m\n\u001b[0;32m----> 1\u001b[0m final_ratings\n",
      "\u001b[0;31mNameError\u001b[0m: name 'final_ratings' is not defined"
     ]
    }
   ],
   "source": [
    "final_ratings"
   ]
  },
  {
   "cell_type": "code",
   "execution_count": null,
   "id": "0b431e69-c255-46cb-9528-15c953372c82",
   "metadata": {},
   "outputs": [],
   "source": []
  }
 ],
 "metadata": {
  "kernelspec": {
   "display_name": "Python 3 (ipykernel)",
   "language": "python",
   "name": "python3"
  },
  "language_info": {
   "codemirror_mode": {
    "name": "ipython",
    "version": 3
   },
   "file_extension": ".py",
   "mimetype": "text/x-python",
   "name": "python",
   "nbconvert_exporter": "python",
   "pygments_lexer": "ipython3",
   "version": "3.13.5"
  }
 },
 "nbformat": 4,
 "nbformat_minor": 5
}
